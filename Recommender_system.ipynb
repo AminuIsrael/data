{
  "nbformat": 4,
  "nbformat_minor": 0,
  "metadata": {
    "colab": {
      "name": "Recomme",
      "provenance": [],
      "collapsed_sections": [],
      "machine_shape": "hm",
      "include_colab_link": true
    },
    "kernelspec": {
      "name": "python3",
      "display_name": "Python 3"
    },
    "accelerator": "GPU"
  },
  "cells": [
    {
      "cell_type": "markdown",
      "metadata": {
        "id": "view-in-github",
        "colab_type": "text"
      },
      "source": [
        "<a href=\"https://colab.research.google.com/github/AminuIsrael/data/blob/master/Recommender_system.ipynb\" target=\"_parent\"><img src=\"https://colab.research.google.com/assets/colab-badge.svg\" alt=\"Open In Colab\"/></a>"
      ]
    },
    {
      "cell_type": "code",
      "metadata": {
        "id": "5OoRmXS88ASW",
        "colab_type": "code",
        "colab": {}
      },
      "source": [
        "!pip install scikit-surprise"
      ],
      "execution_count": 0,
      "outputs": []
    },
    {
      "cell_type": "code",
      "metadata": {
        "id": "WSFffEuOZJhq",
        "colab_type": "code",
        "colab": {}
      },
      "source": [
        "from surprise import SVD\n",
        "from surprise import Dataset\n",
        "from surprise.model_selection import cross_validate\n",
        "\n",
        "\n",
        "# Load the movielens-100k dataset (download it if needed),\n",
        "data = Dataset.load_builtin('ml-100k')\n",
        "\n",
        "# We'll use the famous SVD algorithm.\n",
        "algo = SVD()\n",
        "\n",
        "# Run 5-fold cross-validation and print results\n",
        "cross_validate(algo, data, measures=['RMSE', 'MAE'], cv=5, verbose=True)"
      ],
      "execution_count": 0,
      "outputs": []
    },
    {
      "cell_type": "markdown",
      "metadata": {
        "id": "TcGxho1S-Ozg",
        "colab_type": "text"
      },
      "source": [
        "#Adding train test split() and the fit method"
      ]
    },
    {
      "cell_type": "code",
      "metadata": {
        "id": "07tOx-ex9Chx",
        "colab_type": "code",
        "colab": {}
      },
      "source": [
        "from surprise import accuracy\n",
        "from surprise.model_selection import train_test_split\n",
        "# sample random trainset and testset\n",
        "# test set is made of 25% of the ratings.\n",
        "trainset, testset = train_test_split(data, test_size=.25)\n",
        "\n",
        "# We'll use the famous SVD algorithm.\n",
        "algo = SVD()\n",
        "\n",
        "# Train the algorithm on the trainset, and predict ratings for the testset\n",
        "algo.fit(trainset)\n",
        "predictions = algo.test(testset)\n",
        "\n",
        "# Then compute RMSE\n",
        "accuracy.rmse(predictions)"
      ],
      "execution_count": 0,
      "outputs": []
    },
    {
      "cell_type": "code",
      "metadata": {
        "id": "CfaDY8wV-kyW",
        "colab_type": "code",
        "colab": {}
      },
      "source": [
        "predictions"
      ],
      "execution_count": 0,
      "outputs": []
    },
    {
      "cell_type": "markdown",
      "metadata": {
        "id": "9mbDgaZUIAbs",
        "colab_type": "text"
      },
      "source": [
        "## Adding Custom data"
      ]
    },
    {
      "cell_type": "code",
      "metadata": {
        "id": "dXkHyq53_Nom",
        "colab_type": "code",
        "colab": {}
      },
      "source": [
        "import pandas as pd\n",
        "from surprise import NormalPredictor\n",
        "from surprise import Dataset\n",
        "from surprise import Reader\n",
        "from surprise.model_selection import cross_validate\n",
        "url_train = \"https://raw.githubusercontent.com/AminuIsrael/Recommender-system-data/master/train.csv\"\n",
        "url_test = \"https://raw.githubusercontent.com/AminuIsrael/Recommender-system-data/master/test.csv\"\n",
        "\n",
        "data_train = pd.read_csv(url_train)\n",
        "data_test = pd.read_csv(url_test)\n",
        "\n",
        "data_train.drop(['Response_ID'],1,inplace=True)\n",
        "data_test.drop(['Response_ID'],1,inplace=True)\n",
        "\n",
        "# A reader is still needed but only the rating_scale param is requiered.\n",
        "reader = Reader(line_format='user item rating', sep=' ', skip_lines=3,rating_scale=(-5, 5))\n",
        "\n",
        "# The columns must correspond to user id, item id and ratings (in that order).\n",
        "data = Dataset.load_from_df(data_train[['Viewers_ID', 'Joke_identifier', 'Rating']], reader)"
      ],
      "execution_count": 0,
      "outputs": []
    },
    {
      "cell_type": "markdown",
      "metadata": {
        "id": "F3_vfkS7OQ7p",
        "colab_type": "text"
      },
      "source": [
        "## Make Predictions from the dataset"
      ]
    },
    {
      "cell_type": "code",
      "metadata": {
        "id": "wfJ-rI8pNQc4",
        "colab_type": "code",
        "colab": {}
      },
      "source": [
        "# Retrieve the trainset.\n",
        "trainset = data.build_full_trainset()\n",
        "\n",
        "# We'll use the famous SVD algorithm.\n",
        "algo = SVD()\n",
        "algo.fit(trainset)"
      ],
      "execution_count": 0,
      "outputs": []
    },
    {
      "cell_type": "markdown",
      "metadata": {
        "id": "A4rL7FSxoLrQ",
        "colab_type": "text"
      },
      "source": [
        "## Making Simple Predictions"
      ]
    },
    {
      "cell_type": "code",
      "metadata": {
        "id": "IzgtqmJWOe84",
        "colab_type": "code",
        "colab": {}
      },
      "source": [
        "uid = \"A1\"\n",
        "iid = \"Bovi Lagos 4\"\n",
        "# get a prediction for specific users and items.\n",
        "pred = algo.predict(uid, iid, verbose=True)"
      ],
      "execution_count": 0,
      "outputs": []
    },
    {
      "cell_type": "code",
      "metadata": {
        "id": "1Exes6fRXpRc",
        "colab_type": "code",
        "colab": {}
      },
      "source": [
        "list(pred)[3]"
      ],
      "execution_count": 0,
      "outputs": []
    },
    {
      "cell_type": "code",
      "metadata": {
        "id": "EDR0zSL-nF_t",
        "colab_type": "code",
        "colab": {}
      },
      "source": [
        "import numpy as np\n",
        "data_test[\"Rating\"] = np.nan"
      ],
      "execution_count": 0,
      "outputs": []
    },
    {
      "cell_type": "code",
      "metadata": {
        "id": "-xbDcMEToSiN",
        "colab_type": "code",
        "colab": {}
      },
      "source": [
        "# A reader is still needed but only the rating_scale param is requiered.\n",
        "reader = Reader(line_format='user item rating', sep=' ', skip_lines=3,rating_scale=(-5, 5))\n",
        "\n",
        "# The columns must correspond to user id, item id and ratings (in that order).\n",
        "data_t = Dataset.load_from_df(data_test[['Viewers_ID', 'Joke_identifier', 'Rating']], reader)"
      ],
      "execution_count": 0,
      "outputs": []
    },
    {
      "cell_type": "code",
      "metadata": {
        "id": "Huk7Qstdu72r",
        "colab_type": "code",
        "colab": {}
      },
      "source": [
        "data_test.Joke_identifier[0]"
      ],
      "execution_count": 0,
      "outputs": []
    },
    {
      "cell_type": "code",
      "metadata": {
        "id": "fhBiAVK5okP9",
        "colab_type": "code",
        "colab": {}
      },
      "source": [
        "data_test.Viewers_ID[0]"
      ],
      "execution_count": 0,
      "outputs": []
    },
    {
      "cell_type": "code",
      "metadata": {
        "id": "glifQ9lRvO_h",
        "colab_type": "code",
        "colab": {}
      },
      "source": [
        "pred1 = algo.predict(data_test.Viewers_ID[0],data_test.Joke_identifier[0], verbose=True)\n",
        "list(pred1)[3]"
      ],
      "execution_count": 0,
      "outputs": []
    },
    {
      "cell_type": "code",
      "metadata": {
        "id": "BSODNHurvXzj",
        "colab_type": "code",
        "colab": {}
      },
      "source": [
        "data_test.shape[0]-1"
      ],
      "execution_count": 0,
      "outputs": []
    },
    {
      "cell_type": "code",
      "metadata": {
        "id": "v5ZDPS35vjOC",
        "colab_type": "code",
        "colab": {}
      },
      "source": [
        "i = 0\n",
        "ratings = []\n",
        "\n",
        "while i <= (data_test.shape[0]) -1:\n",
        "  uid = data_test.Viewers_ID[i]\n",
        "  iid = data_test.Joke_identifier[i]\n",
        "  pred1 = algo.predict(uid,iid, verbose=True)\n",
        "  a = list(pred1)[3]\n",
        "  ratings.append(a)\n",
        "  i = i+1"
      ],
      "execution_count": 0,
      "outputs": []
    },
    {
      "cell_type": "code",
      "metadata": {
        "id": "I27Fa3I2qIEA",
        "colab_type": "code",
        "outputId": "92a981a3-9002-4e48-c5eb-711ee9bbec8e",
        "colab": {
          "base_uri": "https://localhost:8080/",
          "height": 34
        }
      },
      "source": [
        "len(ratings)"
      ],
      "execution_count": 0,
      "outputs": [
        {
          "output_type": "execute_result",
          "data": {
            "text/plain": [
              "435873"
            ]
          },
          "metadata": {
            "tags": []
          },
          "execution_count": 18
        }
      ]
    },
    {
      "cell_type": "code",
      "metadata": {
        "id": "8s5bwSGqwikz",
        "colab_type": "code",
        "colab": {}
      },
      "source": [
        "output = ratings\n",
        "df_output = pd.DataFrame()\n",
        "aux = pd.read_csv(url_test)\n",
        "df_output['Response_ID'] = aux['Response_ID']\n",
        "df_output['Rating'] = output\n",
        "df_output[['Response_ID','Rating']].to_csv('pred.csv', index=False)\n",
        "from google.colab import files\n",
        "files.download(\"pred.csv\")"
      ],
      "execution_count": 0,
      "outputs": []
    },
    {
      "cell_type": "code",
      "metadata": {
        "id": "jvJVdDf6qibJ",
        "colab_type": "code",
        "colab": {}
      },
      "source": [
        ""
      ],
      "execution_count": 0,
      "outputs": []
    }
  ]
}